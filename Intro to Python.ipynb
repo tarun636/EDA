{
 "cells": [
  {
   "cell_type": "markdown",
   "metadata": {},
   "source": [
    "# Introduction to Python "
   ]
  },
  {
   "cell_type": "markdown",
   "metadata": {},
   "source": [
    "#### Hello World Program"
   ]
  },
  {
   "cell_type": "code",
   "execution_count": 1,
   "metadata": {},
   "outputs": [
    {
     "name": "stdout",
     "output_type": "stream",
     "text": [
      "Hello World\n"
     ]
    }
   ],
   "source": [
    "print(\"Hello World\")"
   ]
  },
  {
   "cell_type": "markdown",
   "metadata": {},
   "source": [
    "#### Comments"
   ]
  },
  {
   "cell_type": "code",
   "execution_count": 3,
   "metadata": {},
   "outputs": [
    {
     "name": "stdout",
     "output_type": "stream",
     "text": [
      "Hello again\n"
     ]
    }
   ],
   "source": [
    "# This is my comment\n",
    "'''\n",
    "Multiline\n",
    "Comment\n",
    "'''\n",
    "\n",
    "print(\"Hello again\")"
   ]
  },
  {
   "cell_type": "markdown",
   "metadata": {},
   "source": [
    "#### Variables and Datatypes "
   ]
  },
  {
   "cell_type": "code",
   "execution_count": 4,
   "metadata": {},
   "outputs": [
    {
     "name": "stdout",
     "output_type": "stream",
     "text": [
      "<class 'str'>\n",
      "Hello\n",
      "<class 'int'>\n",
      "110\n"
     ]
    }
   ],
   "source": [
    "myString = \"Hello\"\n",
    "print(type(myString))\n",
    "print(myString)\n",
    "\n",
    "\n",
    "myNumber = 110\n",
    "print(type(myNumber))\n",
    "print(myNumber)"
   ]
  },
  {
   "cell_type": "code",
   "execution_count": 5,
   "metadata": {},
   "outputs": [
    {
     "name": "stdout",
     "output_type": "stream",
     "text": [
      "<class 'list'>\n",
      "['hi', 123, True]\n",
      "123\n"
     ]
    }
   ],
   "source": [
    "myList = [\"hi\", 123, True]\n",
    "\n",
    "print(type(myList))\n",
    "\n",
    "print(myList)\n",
    "\n",
    "print(myList[1])"
   ]
  },
  {
   "cell_type": "code",
   "execution_count": 6,
   "metadata": {},
   "outputs": [
    {
     "name": "stdout",
     "output_type": "stream",
     "text": [
      "<class 'dict'>\n",
      "{'key': 'value', 'key1': 'value1'}\n",
      "value1\n"
     ]
    }
   ],
   "source": [
    "myDictionary = {\n",
    "    \"key\": \"value\",\n",
    "    \"key1\": \"value1\"\n",
    "}\n",
    "\n",
    "print(type(myDictionary))\n",
    "\n",
    "print(myDictionary)\n",
    "\n",
    "print(myDictionary[\"key1\"])"
   ]
  },
  {
   "cell_type": "markdown",
   "metadata": {},
   "source": [
    "#### IF-ELSE STATEMENT"
   ]
  },
  {
   "cell_type": "code",
   "execution_count": 7,
   "metadata": {},
   "outputs": [
    {
     "name": "stdout",
     "output_type": "stream",
     "text": [
      "OK\n"
     ]
    }
   ],
   "source": [
    "myNumber = 6\n",
    "\n",
    "if myNumber < 10:\n",
    "    print(\"OK\")\n",
    "else:\n",
    "    print(\"NOK\")"
   ]
  },
  {
   "cell_type": "markdown",
   "metadata": {},
   "source": [
    "#### For Loop"
   ]
  },
  {
   "cell_type": "code",
   "execution_count": 8,
   "metadata": {},
   "outputs": [
    {
     "name": "stdout",
     "output_type": "stream",
     "text": [
      "1\n",
      "2\n",
      "3\n",
      "4\n",
      "5\n",
      "6\n",
      "totalSum = 21\n"
     ]
    }
   ],
   "source": [
    "myList = [1, 2, 3, 4, 5, 6]\n",
    "totalSum = 0\n",
    "\n",
    "for value in myList:\n",
    "    print(value)\n",
    "    totalSum = totalSum + value\n",
    "    \n",
    "print(\"totalSum =\", totalSum)"
   ]
  },
  {
   "cell_type": "markdown",
   "metadata": {},
   "source": [
    "#### FUNCTIONS"
   ]
  },
  {
   "cell_type": "code",
   "execution_count": null,
   "metadata": {},
   "outputs": [],
   "source": [
    "# defination of function\n",
    "def squareValue(value = 3):\n",
    "    print(\"input value =\", value)\n",
    "    \n",
    "    squareResult = value * value\n",
    "    \n",
    "    return squareResult"
   ]
  },
  {
   "cell_type": "code",
   "execution_count": null,
   "metadata": {},
   "outputs": [],
   "source": [
    "# call the function\n",
    "myResult = squareValue(10)\n",
    "print(\"output = \", myResult)\n",
    "\n",
    "myResult = squareValue()\n",
    "print(\"output = \", myResult)"
   ]
  },
  {
   "cell_type": "code",
   "execution_count": null,
   "metadata": {},
   "outputs": [],
   "source": []
  }
 ],
 "metadata": {
  "anaconda-cloud": {},
  "kernelspec": {
   "display_name": "Python 3",
   "language": "python",
   "name": "python3"
  },
  "language_info": {
   "codemirror_mode": {
    "name": "ipython",
    "version": 3
   },
   "file_extension": ".py",
   "mimetype": "text/x-python",
   "name": "python",
   "nbconvert_exporter": "python",
   "pygments_lexer": "ipython3",
   "version": "3.6.4"
  }
 },
 "nbformat": 4,
 "nbformat_minor": 2
}
